{
 "cells": [
  {
   "cell_type": "markdown",
   "metadata": {},
   "source": [
    "# Insper - Ciência dos Dados 2022.2\n",
    "\n",
    "## Engenharia - 2ºB\n",
    "\n",
    "### Integrantes do grupo:\n",
    "\n",
    "* Beatriz Rodrigues de Freitas\n",
    "\n",
    "* Carlos Eduardo Porciuncula Yamada\n",
    "\n",
    "* Verônica Luisa Ribeiro Lima"
   ]
  },
  {
   "cell_type": "markdown",
   "metadata": {},
   "source": [
    "___\n",
    "<div id='sumario'></div>\n",
    "\n",
    "## Sumário\n",
    "\n",
    "1. [Introdução](#intro)\n",
    "\n",
    "2. [Minerando Dados e Características do Dataset](#data-mining)\n",
    "\n",
    "3. [Modelos de Predição](#prediction)\n",
    "\n",
    "4. [Processo e Estatísticas de Validação](#validation)\n",
    "\n",
    "5. [Conclusão](#conclusion)\n",
    "\n",
    "6. [Referências Bibliográficas](#ref)"
   ]
  },
  {
   "cell_type": "markdown",
   "metadata": {},
   "source": [
    "___\n",
    "<div id='intro'></div>\n",
    "\n",
    "## 1. Introdução\n",
    "\n",
    "### Objetivo\n",
    "\n",
    "O objetivo deste projeto é criar um código capaz de prever o preço de um notebook (em euros) a partir de algumas features fornescidas pela base de dados \"Laptop_price\", disponibilizada na plataforma Kaggle por MUHAMMET VARLI em 2020. \n",
    "Os dados utilizados para a modelagem da target estão descritos a seguir:\n",
    "\n",
    "\n",
    "### Descrição da base de dados\n",
    "\n",
    "* `Company`: **object** → Fabricante do computador;\n",
    "\n",
    "* `TypeName`: **object** → Tipo do uso;\n",
    "\n",
    "* `Inches`: **float** → Tamanho (em polegadas);\n",
    "\n",
    "* `Cpu`: **object** → Qual o processador;\n",
    "\n",
    "* `Ram`: **object** → Quantidade de memória Ram;\n",
    "\n",
    "* `Memory`: **object** → Quantidade de memória Rom, assim como o seu tipo;\n",
    "\n",
    "* `Product`: **object** → Modelo do notebook;\n",
    "\n",
    "* `ScreenResolution`: **object** → Resolução da tela;\n",
    "\n",
    "* `OpSys`: **object** → Sistema operacional.\n"
   ]
  },
  {
   "cell_type": "markdown",
   "metadata": {},
   "source": [
    "As bibliotecas utilizadas na contrução do robô serão as seguintes:"
   ]
  },
  {
   "cell_type": "code",
   "execution_count": 24,
   "metadata": {},
   "outputs": [],
   "source": [
    "%matplotlib inline\n",
    "import pandas as pd\n",
    "import numpy as np\n",
    "from sklearn import tree\n",
    "from sklearn.model_selection import train_test_split\n",
    "import os\n",
    "import re \n",
    "import matplotlib.pyplot as plt\n",
    "import seaborn as sns"
   ]
  },
  {
   "cell_type": "code",
   "execution_count": 25,
   "metadata": {},
   "outputs": [
    {
     "data": {
      "text/html": [
       "<div>\n",
       "<style scoped>\n",
       "    .dataframe tbody tr th:only-of-type {\n",
       "        vertical-align: middle;\n",
       "    }\n",
       "\n",
       "    .dataframe tbody tr th {\n",
       "        vertical-align: top;\n",
       "    }\n",
       "\n",
       "    .dataframe thead th {\n",
       "        text-align: right;\n",
       "    }\n",
       "</style>\n",
       "<table border=\"1\" class=\"dataframe\">\n",
       "  <thead>\n",
       "    <tr style=\"text-align: right;\">\n",
       "      <th></th>\n",
       "      <th>laptop_ID</th>\n",
       "      <th>Company</th>\n",
       "      <th>Product</th>\n",
       "      <th>TypeName</th>\n",
       "      <th>Inches</th>\n",
       "      <th>ScreenResolution</th>\n",
       "      <th>Cpu</th>\n",
       "      <th>Ram</th>\n",
       "      <th>Memory</th>\n",
       "      <th>Gpu</th>\n",
       "      <th>OpSys</th>\n",
       "      <th>Weight</th>\n",
       "      <th>Price_euros</th>\n",
       "    </tr>\n",
       "  </thead>\n",
       "  <tbody>\n",
       "    <tr>\n",
       "      <th>0</th>\n",
       "      <td>1</td>\n",
       "      <td>Apple</td>\n",
       "      <td>MacBook Pro</td>\n",
       "      <td>Ultrabook</td>\n",
       "      <td>13.3</td>\n",
       "      <td>IPS Panel Retina Display 2560x1600</td>\n",
       "      <td>Intel Core i5 2.3GHz</td>\n",
       "      <td>8GB</td>\n",
       "      <td>128GB SSD</td>\n",
       "      <td>Intel Iris Plus Graphics 640</td>\n",
       "      <td>macOS</td>\n",
       "      <td>1.37kg</td>\n",
       "      <td>1339.69</td>\n",
       "    </tr>\n",
       "    <tr>\n",
       "      <th>1</th>\n",
       "      <td>2</td>\n",
       "      <td>Apple</td>\n",
       "      <td>Macbook Air</td>\n",
       "      <td>Ultrabook</td>\n",
       "      <td>13.3</td>\n",
       "      <td>1440x900</td>\n",
       "      <td>Intel Core i5 1.8GHz</td>\n",
       "      <td>8GB</td>\n",
       "      <td>128GB Flash Storage</td>\n",
       "      <td>Intel HD Graphics 6000</td>\n",
       "      <td>macOS</td>\n",
       "      <td>1.34kg</td>\n",
       "      <td>898.94</td>\n",
       "    </tr>\n",
       "    <tr>\n",
       "      <th>2</th>\n",
       "      <td>3</td>\n",
       "      <td>HP</td>\n",
       "      <td>250 G6</td>\n",
       "      <td>Notebook</td>\n",
       "      <td>15.6</td>\n",
       "      <td>Full HD 1920x1080</td>\n",
       "      <td>Intel Core i5 7200U 2.5GHz</td>\n",
       "      <td>8GB</td>\n",
       "      <td>256GB SSD</td>\n",
       "      <td>Intel HD Graphics 620</td>\n",
       "      <td>No OS</td>\n",
       "      <td>1.86kg</td>\n",
       "      <td>575.00</td>\n",
       "    </tr>\n",
       "  </tbody>\n",
       "</table>\n",
       "</div>"
      ],
      "text/plain": [
       "   laptop_ID Company      Product   TypeName  Inches  \\\n",
       "0          1   Apple  MacBook Pro  Ultrabook    13.3   \n",
       "1          2   Apple  Macbook Air  Ultrabook    13.3   \n",
       "2          3      HP       250 G6   Notebook    15.6   \n",
       "\n",
       "                     ScreenResolution                         Cpu  Ram  \\\n",
       "0  IPS Panel Retina Display 2560x1600        Intel Core i5 2.3GHz  8GB   \n",
       "1                            1440x900        Intel Core i5 1.8GHz  8GB   \n",
       "2                   Full HD 1920x1080  Intel Core i5 7200U 2.5GHz  8GB   \n",
       "\n",
       "                Memory                           Gpu  OpSys  Weight  \\\n",
       "0            128GB SSD  Intel Iris Plus Graphics 640  macOS  1.37kg   \n",
       "1  128GB Flash Storage        Intel HD Graphics 6000  macOS  1.34kg   \n",
       "2            256GB SSD         Intel HD Graphics 620  No OS  1.86kg   \n",
       "\n",
       "   Price_euros  \n",
       "0      1339.69  \n",
       "1       898.94  \n",
       "2       575.00  "
      ]
     },
     "execution_count": 25,
     "metadata": {},
     "output_type": "execute_result"
    }
   ],
   "source": [
    "laptop_price = pd.read_csv('dados/laptop_price.csv',sep=',',  encoding='latin-1')\n",
    "laptop_price.head(3)"
   ]
  },
  {
   "cell_type": "markdown",
   "metadata": {},
   "source": [
    "___\n",
    "<div id='data-mining'></div>\n",
    "\n",
    "## 2. Minerando Dados e Características do Dataset\n",
    "\n",
    "\n"
   ]
  },
  {
   "cell_type": "markdown",
   "metadata": {},
   "source": [
    "O primeiro passo foi identificar quais seriam as features que modelam o preço. Para tal, foi utilizado o **groupby** e o **describe** para ver a relação de cada coluna com o valor do notebook, como se observa no arquivo **Describes**. \n",
    "Juntando esses resultados com o conhecimento prévio acerca de quais componentes mais influenciam no preço de um computador, foi decidido não levar em consideração a resulução da tela, o peso e o sistema operacinal.\n",
    "\n",
    "Um problema das features CPU, Memory e GPU é a grande quantidade de opções: 118, 39 e 110, respectivamente, o que pode interferir na eficiência do código.\n",
    "Não seria viável reagrupar as Gpu's, pois há uma grande variação de preço dentro de uma mesma categoria (uma Nvidia GeForce GTX 500 custa menos da metade de uma Nvidia GeForce GTX 1650, por exemplo) - o mesmo ocorre com \"Memory\", pois 256GB em SSD é mais caro do que a mesma quantidade em um HD. Assim, a única feature que pode ter as categorias resumidas sem maiores perdas seria o processador. Para tal, observou-se quais os mais recorrentes:"
   ]
  },
  {
   "cell_type": "code",
   "execution_count": 26,
   "metadata": {},
   "outputs": [
    {
     "data": {
      "text/plain": [
       "Intel Core i5 7200U 2.5GHz       190\n",
       "Intel Core i7 7700HQ 2.8GHz      146\n",
       "Intel Core i7 7500U 2.7GHz       134\n",
       "Intel Core i7 8550U 1.8GHz        73\n",
       "Intel Core i5 8250U 1.6GHz        72\n",
       "                                ... \n",
       "Intel Core M M3-6Y30 0.9GHz        1\n",
       "AMD A9-Series 9420 2.9GHz          1\n",
       "Intel Core i3 6006U 2.2GHz         1\n",
       "AMD A6-Series 7310 2GHz            1\n",
       "Intel Xeon E3-1535M v6 3.1GHz      1\n",
       "Name: Cpu, Length: 118, dtype: int64"
      ]
     },
     "execution_count": 26,
     "metadata": {},
     "output_type": "execute_result"
    }
   ],
   "source": [
    "laptop_price['Cpu'].value_counts()"
   ]
  },
  {
   "cell_type": "markdown",
   "metadata": {},
   "source": [
    "A partir dessa contagem, as Cpu's foram separadas nas seguintes categorias, seguindo a recorrência: Intel Core I7, Intel Core I5, Intel Core I3, Intel Pentium, Intel Celeron, AMD e outros."
   ]
  },
  {
   "cell_type": "code",
   "execution_count": 27,
   "metadata": {},
   "outputs": [
    {
     "data": {
      "text/html": [
       "<div>\n",
       "<style scoped>\n",
       "    .dataframe tbody tr th:only-of-type {\n",
       "        vertical-align: middle;\n",
       "    }\n",
       "\n",
       "    .dataframe tbody tr th {\n",
       "        vertical-align: top;\n",
       "    }\n",
       "\n",
       "    .dataframe thead th {\n",
       "        text-align: right;\n",
       "    }\n",
       "</style>\n",
       "<table border=\"1\" class=\"dataframe\">\n",
       "  <thead>\n",
       "    <tr style=\"text-align: right;\">\n",
       "      <th></th>\n",
       "      <th>Company</th>\n",
       "      <th>TypeName</th>\n",
       "      <th>Processor</th>\n",
       "      <th>Inches</th>\n",
       "      <th>Ram</th>\n",
       "      <th>Memory</th>\n",
       "      <th>Gpu</th>\n",
       "      <th>Price_euros</th>\n",
       "    </tr>\n",
       "  </thead>\n",
       "  <tbody>\n",
       "    <tr>\n",
       "      <th>0</th>\n",
       "      <td>Apple</td>\n",
       "      <td>Ultrabook</td>\n",
       "      <td>Intel Core i5</td>\n",
       "      <td>13.3</td>\n",
       "      <td>8GB</td>\n",
       "      <td>128GB SSD</td>\n",
       "      <td>Intel Iris Plus Graphics 640</td>\n",
       "      <td>1339.69</td>\n",
       "    </tr>\n",
       "    <tr>\n",
       "      <th>1</th>\n",
       "      <td>Apple</td>\n",
       "      <td>Ultrabook</td>\n",
       "      <td>Intel Core i5</td>\n",
       "      <td>13.3</td>\n",
       "      <td>8GB</td>\n",
       "      <td>128GB Flash Storage</td>\n",
       "      <td>Intel HD Graphics 6000</td>\n",
       "      <td>898.94</td>\n",
       "    </tr>\n",
       "    <tr>\n",
       "      <th>2</th>\n",
       "      <td>HP</td>\n",
       "      <td>Notebook</td>\n",
       "      <td>Intel Core i5</td>\n",
       "      <td>15.6</td>\n",
       "      <td>8GB</td>\n",
       "      <td>256GB SSD</td>\n",
       "      <td>Intel HD Graphics 620</td>\n",
       "      <td>575.00</td>\n",
       "    </tr>\n",
       "  </tbody>\n",
       "</table>\n",
       "</div>"
      ],
      "text/plain": [
       "  Company   TypeName      Processor  Inches  Ram               Memory  \\\n",
       "0   Apple  Ultrabook  Intel Core i5    13.3  8GB            128GB SSD   \n",
       "1   Apple  Ultrabook  Intel Core i5    13.3  8GB  128GB Flash Storage   \n",
       "2      HP   Notebook  Intel Core i5    15.6  8GB            256GB SSD   \n",
       "\n",
       "                            Gpu  Price_euros  \n",
       "0  Intel Iris Plus Graphics 640      1339.69  \n",
       "1        Intel HD Graphics 6000       898.94  \n",
       "2         Intel HD Graphics 620       575.00  "
      ]
     },
     "execution_count": 27,
     "metadata": {},
     "output_type": "execute_result"
    }
   ],
   "source": [
    "dados = laptop_price.loc[:, ['Company', 'TypeName', 'Cpu', \"Inches\", 'Ram', 'Memory', 'Gpu', 'Price_euros']]\n",
    "\n",
    "dados.insert(3, 'Processor', '')  # --> onde será armazenado as novas categorias de processador\n",
    "\n",
    "tamanho = len(dados['Company'])\n",
    "\n",
    "for i in range(0, tamanho):\n",
    "    cpu = dados[\"Cpu\"][i]\n",
    "\n",
    "    if re.search(\"AMD\", cpu):\n",
    "        dados.loc[i,'Processor']= 'AMD'\n",
    "    elif re.search(\"Intel Pentium\", cpu):\n",
    "        dados.loc[i,'Processor']= 'Intel Pentium'\n",
    "    elif re.search(\"Intel Core i3\", cpu):\n",
    "        dados.loc[i,'Processor']= 'Intel Core i3'\n",
    "    elif re.search(\"Intel Core i5\", cpu):\n",
    "        dados.loc[i,'Processor']= 'Intel Core i5'\n",
    "    elif re.search(\"Intel Core i7\", cpu):\n",
    "        dados.loc[i,'Processor']= 'Intel Core i7'\n",
    "    elif re.search(\"Intel Celeron\", cpu):\n",
    "        dados.loc[i,'Processor']= 'Intel Celeron'\n",
    "    else:\n",
    "        dados.loc[i,'Processor']= 'Outros'\n",
    "\n",
    "dados.drop(columns = 'Cpu', axis = 1, inplace=True)\n",
    "dados.head(3)"
   ]
  },
  {
   "cell_type": "markdown",
   "metadata": {},
   "source": [
    "[Voltar para o sumário](#sumario)"
   ]
  },
  {
   "cell_type": "markdown",
   "metadata": {},
   "source": [
    "\n",
    "## 2.1 Análise exploratória\n"
   ]
  },
  {
   "cell_type": "markdown",
   "metadata": {},
   "source": [
    "### 2.1 Disposição dos preços"
   ]
  },
  {
   "cell_type": "markdown",
   "metadata": {},
   "source": [
    "Entendendo como o preço varia na base de dados"
   ]
  },
  {
   "cell_type": "code",
   "execution_count": 28,
   "metadata": {},
   "outputs": [
    {
     "data": {
      "text/plain": [
       "count    1303.000000\n",
       "mean     1123.686992\n",
       "std       699.009043\n",
       "min       174.000000\n",
       "25%       599.000000\n",
       "50%       977.000000\n",
       "75%      1487.880000\n",
       "max      6099.000000\n",
       "Name: Price_euros, dtype: float64"
      ]
     },
     "execution_count": 28,
     "metadata": {},
     "output_type": "execute_result"
    }
   ],
   "source": [
    "dados['Price_euros'].describe()"
   ]
  },
  {
   "cell_type": "code",
   "execution_count": 29,
   "metadata": {},
   "outputs": [
    {
     "data": {
      "image/png": "[encoded data removed]",
      "text/plain": [
       "<Figure size 576x360 with 1 Axes>"
      ]
     },
     "metadata": {
      "needs_background": "light"
     },
     "output_type": "display_data"
    }
   ],
   "source": [
    "plt.figure(figsize=(8,5))\n",
    "\n",
    "plt.subplot(111)\n",
    "plt.boxplot(dados['Price_euros'], labels = ['notebooks'],  \n",
    "            boxprops=dict(color='blue'),\n",
    "            medianprops=dict(color='deeppink'),\n",
    "            capprops=dict(color='springgreen'),\n",
    "            whiskerprops=dict(color='red'),\n",
    "            flierprops=dict(color='yellow', markeredgecolor='cyan')\n",
    "            )\n",
    "plt.title('Preço dos notebooks da base de treinamento')\n",
    "plt.ylabel('preços em euros')\n",
    "\n",
    "plt.show()"
   ]
  },
  {
   "cell_type": "code",
   "execution_count": 36,
   "metadata": {},
   "outputs": [
    {
     "data": {
      "image/png": "[encoded data removed]",
      "text/plain": [
       "<Figure size 576x360 with 1 Axes>"
      ]
     },
     "metadata": {},
     "output_type": "display_data"
    }
   ],
   "source": [
    "faixas = np.linspace(150, 6100, 50)\n",
    "\n",
    "plt.figure(figsize=(8,5))\n",
    "\n",
    "plt.subplot(111)\n",
    "plt.hist(dados['Price_euros'], bins = faixas, edgecolor='white', color='k')\n",
    "plt.xlabel('preços em euros')\n",
    "plt.title(\"Preço dos notebooks da base de treinamento\")\n",
    "plt.show()"
   ]
  },
  {
   "cell_type": "markdown",
   "metadata": {},
   "source": [
    "Apesar de ter muitos \"outliers\" no gráfico, manteremos a maioria para a análise, pois era esperado que haja uma grande diferença de preço entre diferentes categorias de notebooks e como estamos analisando várias categorias é provável que os preços mais altos sejam de uma categoria específica. Dessa forma a qualidade da previsão do código seria afetada para determinadas categorias caso todos \"outliers\" não fossem desconsiderados no treinamento.\n",
    "\n",
    "\n",
    "Entretanto, limitaremos o preço máximo a 4000 euros para melhorar a qualidade geral da previsão, pois é um valor que engloba até as categorias com maiores preços."
   ]
  },
  {
   "cell_type": "code",
   "execution_count": 31,
   "metadata": {},
   "outputs": [],
   "source": [
    "dados = dados.loc[dados['Price_euros'] <= 4000, :]"
   ]
  },
  {
   "cell_type": "markdown",
   "metadata": {},
   "source": [
    "### 2.2 Comparação das variáveis"
   ]
  },
  {
   "cell_type": "code",
   "execution_count": 32,
   "metadata": {},
   "outputs": [
    {
     "data": {
      "text/html": [
       "<div>\n",
       "<style scoped>\n",
       "    .dataframe tbody tr th:only-of-type {\n",
       "        vertical-align: middle;\n",
       "    }\n",
       "\n",
       "    .dataframe tbody tr th {\n",
       "        vertical-align: top;\n",
       "    }\n",
       "\n",
       "    .dataframe thead th {\n",
       "        text-align: right;\n",
       "    }\n",
       "</style>\n",
       "<table border=\"1\" class=\"dataframe\">\n",
       "  <thead>\n",
       "    <tr style=\"text-align: right;\">\n",
       "      <th></th>\n",
       "      <th>Company</th>\n",
       "      <th>TypeName</th>\n",
       "      <th>Processor</th>\n",
       "      <th>Inches</th>\n",
       "      <th>Ram</th>\n",
       "      <th>Memory</th>\n",
       "      <th>Gpu</th>\n",
       "      <th>Price_euros</th>\n",
       "    </tr>\n",
       "  </thead>\n",
       "  <tbody>\n",
       "    <tr>\n",
       "      <th>651</th>\n",
       "      <td>Acer</td>\n",
       "      <td>Gaming</td>\n",
       "      <td>Intel Core i5</td>\n",
       "      <td>15.6</td>\n",
       "      <td>8GB</td>\n",
       "      <td>1TB HDD</td>\n",
       "      <td>Nvidia GeForce GTX 1050</td>\n",
       "      <td>709.0</td>\n",
       "    </tr>\n",
       "    <tr>\n",
       "      <th>78</th>\n",
       "      <td>Acer</td>\n",
       "      <td>Notebook</td>\n",
       "      <td>Intel Core i3</td>\n",
       "      <td>15.6</td>\n",
       "      <td>4GB</td>\n",
       "      <td>1TB HDD</td>\n",
       "      <td>Nvidia GeForce MX130</td>\n",
       "      <td>530.0</td>\n",
       "    </tr>\n",
       "    <tr>\n",
       "      <th>324</th>\n",
       "      <td>Acer</td>\n",
       "      <td>Notebook</td>\n",
       "      <td>AMD</td>\n",
       "      <td>15.6</td>\n",
       "      <td>8GB</td>\n",
       "      <td>256GB SSD</td>\n",
       "      <td>AMD Radeon RX 540</td>\n",
       "      <td>659.0</td>\n",
       "    </tr>\n",
       "    <tr>\n",
       "      <th>326</th>\n",
       "      <td>Acer</td>\n",
       "      <td>Notebook</td>\n",
       "      <td>Intel Core i5</td>\n",
       "      <td>15.6</td>\n",
       "      <td>6GB</td>\n",
       "      <td>1TB HDD</td>\n",
       "      <td>Intel HD Graphics 620</td>\n",
       "      <td>549.0</td>\n",
       "    </tr>\n",
       "    <tr>\n",
       "      <th>371</th>\n",
       "      <td>Acer</td>\n",
       "      <td>Notebook</td>\n",
       "      <td>AMD</td>\n",
       "      <td>15.6</td>\n",
       "      <td>4GB</td>\n",
       "      <td>128GB SSD</td>\n",
       "      <td>AMD Radeon R5</td>\n",
       "      <td>426.0</td>\n",
       "    </tr>\n",
       "  </tbody>\n",
       "</table>\n",
       "</div>"
      ],
      "text/plain": [
       "    Company  TypeName      Processor  Inches  Ram     Memory  \\\n",
       "651    Acer    Gaming  Intel Core i5    15.6  8GB    1TB HDD   \n",
       "78     Acer  Notebook  Intel Core i3    15.6  4GB    1TB HDD   \n",
       "324    Acer  Notebook            AMD    15.6  8GB  256GB SSD   \n",
       "326    Acer  Notebook  Intel Core i5    15.6  6GB    1TB HDD   \n",
       "371    Acer  Notebook            AMD    15.6  4GB  128GB SSD   \n",
       "\n",
       "                         Gpu  Price_euros  \n",
       "651  Nvidia GeForce GTX 1050        709.0  \n",
       "78      Nvidia GeForce MX130        530.0  \n",
       "324        AMD Radeon RX 540        659.0  \n",
       "326    Intel HD Graphics 620        549.0  \n",
       "371            AMD Radeon R5        426.0  "
      ]
     },
     "execution_count": 32,
     "metadata": {},
     "output_type": "execute_result"
    }
   ],
   "source": [
    "precos_por_marca = dados.sort_values(['Company'])\n",
    "precos_por_marca.head()"
   ]
  },
  {
   "cell_type": "code",
   "execution_count": 33,
   "metadata": {},
   "outputs": [
    {
     "data": {
      "image/png": "[encoded data removed]",
      "text/plain": [
       "<Figure size 3240x1440 with 1 Axes>"
      ]
     },
     "metadata": {
      "needs_background": "light"
     },
     "output_type": "display_data"
    }
   ],
   "source": [
    "precos_por_marca = dados.groupby('Company')['Price_euros'].mean().reset_index()\n",
    "\n",
    "plt.figure(figsize = (45,20))\n",
    "sns.set(font_scale = 2.5)\n",
    "ax = sns.barplot(x='Company', y='Price_euros', data= precos_por_marca,order = precos_por_marca['Company'], palette = 'plasma')"
   ]
  },
  {
   "cell_type": "code",
   "execution_count": 34,
   "metadata": {},
   "outputs": [
    {
     "data": {
      "image/png": "[encoded data removed]",
      "text/plain": [
       "<Figure size 1800x720 with 1 Axes>"
      ]
     },
     "metadata": {},
     "output_type": "display_data"
    }
   ],
   "source": [
    "precos_por_processador = dados.groupby('Processor')['Price_euros'].mean().reset_index()\n",
    "\n",
    "plt.figure(figsize = (25,10))\n",
    "sns.set(font_scale = 2.5)\n",
    "ax = sns.barplot(x='Processor', y='Price_euros', data= precos_por_processador,order = precos_por_processador['Processor'])"
   ]
  },
  {
   "cell_type": "code",
   "execution_count": 35,
   "metadata": {},
   "outputs": [
    {
     "data": {
      "text/html": [
       "<div>\n",
       "<style scoped>\n",
       "    .dataframe tbody tr th:only-of-type {\n",
       "        vertical-align: middle;\n",
       "    }\n",
       "\n",
       "    .dataframe tbody tr th {\n",
       "        vertical-align: top;\n",
       "    }\n",
       "\n",
       "    .dataframe thead th {\n",
       "        text-align: right;\n",
       "    }\n",
       "</style>\n",
       "<table border=\"1\" class=\"dataframe\">\n",
       "  <thead>\n",
       "    <tr style=\"text-align: right;\">\n",
       "      <th></th>\n",
       "      <th>Processor</th>\n",
       "      <th>Price_euros</th>\n",
       "    </tr>\n",
       "  </thead>\n",
       "  <tbody>\n",
       "    <tr>\n",
       "      <th>0</th>\n",
       "      <td>AMD</td>\n",
       "      <td>560.638871</td>\n",
       "    </tr>\n",
       "    <tr>\n",
       "      <th>1</th>\n",
       "      <td>Intel Celeron</td>\n",
       "      <td>319.328523</td>\n",
       "    </tr>\n",
       "    <tr>\n",
       "      <th>2</th>\n",
       "      <td>Intel Core i3</td>\n",
       "      <td>541.625956</td>\n",
       "    </tr>\n",
       "    <tr>\n",
       "      <th>3</th>\n",
       "      <td>Intel Core i5</td>\n",
       "      <td>1015.015248</td>\n",
       "    </tr>\n",
       "    <tr>\n",
       "      <th>4</th>\n",
       "      <td>Intel Core i7</td>\n",
       "      <td>1579.766838</td>\n",
       "    </tr>\n",
       "    <tr>\n",
       "      <th>5</th>\n",
       "      <td>Intel Pentium</td>\n",
       "      <td>435.540000</td>\n",
       "    </tr>\n",
       "    <tr>\n",
       "      <th>6</th>\n",
       "      <td>Outros</td>\n",
       "      <td>998.893143</td>\n",
       "    </tr>\n",
       "  </tbody>\n",
       "</table>\n",
       "</div>"
      ],
      "text/plain": [
       "       Processor  Price_euros\n",
       "0            AMD   560.638871\n",
       "1  Intel Celeron   319.328523\n",
       "2  Intel Core i3   541.625956\n",
       "3  Intel Core i5  1015.015248\n",
       "4  Intel Core i7  1579.766838\n",
       "5  Intel Pentium   435.540000\n",
       "6         Outros   998.893143"
      ]
     },
     "execution_count": 35,
     "metadata": {},
     "output_type": "execute_result"
    }
   ],
   "source": [
    "precos_por_processador"
   ]
  },
  {
   "cell_type": "markdown",
   "metadata": {},
   "source": [
    "[Voltar para o sumário](#sumario)"
   ]
  },
  {
   "cell_type": "markdown",
   "metadata": {},
   "source": [
    "___\n",
    "<div id='prediction'></div>\n",
    "\n",
    "## 3. Modelos de Predição\n",
    "\n",
    "Descrever e justificar pelo menos **DUAS** técnicas de predição."
   ]
  },
  {
   "cell_type": "markdown",
   "metadata": {},
   "source": [
    "### Criando base de teste e treinamento \n",
    "\n",
    "A base da dados deve ser seraparada entre uma parte qual será responsável por ensinar o algoritmo a fazer as predições, e em outra na qual o robô será testato, para verificar sua eficiência. "
   ]
  },
  {
   "cell_type": "code",
   "execution_count": 39,
   "metadata": {},
   "outputs": [
    {
     "data": {
      "text/html": [
       "<div>\n",
       "<style scoped>\n",
       "    .dataframe tbody tr th:only-of-type {\n",
       "        vertical-align: middle;\n",
       "    }\n",
       "\n",
       "    .dataframe tbody tr th {\n",
       "        vertical-align: top;\n",
       "    }\n",
       "\n",
       "    .dataframe thead th {\n",
       "        text-align: right;\n",
       "    }\n",
       "</style>\n",
       "<table border=\"1\" class=\"dataframe\">\n",
       "  <thead>\n",
       "    <tr style=\"text-align: right;\">\n",
       "      <th></th>\n",
       "      <th>Company</th>\n",
       "      <th>TypeName</th>\n",
       "      <th>Processor</th>\n",
       "      <th>Inches</th>\n",
       "      <th>Ram</th>\n",
       "      <th>Memory</th>\n",
       "      <th>Gpu</th>\n",
       "    </tr>\n",
       "  </thead>\n",
       "  <tbody>\n",
       "    <tr>\n",
       "      <th>145</th>\n",
       "      <td>Asus</td>\n",
       "      <td>Ultrabook</td>\n",
       "      <td>Intel Core i7</td>\n",
       "      <td>14.0</td>\n",
       "      <td>8GB</td>\n",
       "      <td>256GB SSD</td>\n",
       "      <td>Intel UHD Graphics 620</td>\n",
       "    </tr>\n",
       "    <tr>\n",
       "      <th>319</th>\n",
       "      <td>Acer</td>\n",
       "      <td>Notebook</td>\n",
       "      <td>Intel Pentium</td>\n",
       "      <td>11.6</td>\n",
       "      <td>4GB</td>\n",
       "      <td>128GB Flash Storage</td>\n",
       "      <td>Intel HD Graphics 405</td>\n",
       "    </tr>\n",
       "    <tr>\n",
       "      <th>648</th>\n",
       "      <td>Toshiba</td>\n",
       "      <td>Notebook</td>\n",
       "      <td>Intel Core i5</td>\n",
       "      <td>13.3</td>\n",
       "      <td>8GB</td>\n",
       "      <td>256GB SSD</td>\n",
       "      <td>Intel HD Graphics 520</td>\n",
       "    </tr>\n",
       "  </tbody>\n",
       "</table>\n",
       "</div>"
      ],
      "text/plain": [
       "     Company   TypeName      Processor  Inches  Ram               Memory  \\\n",
       "145     Asus  Ultrabook  Intel Core i7    14.0  8GB            256GB SSD   \n",
       "319     Acer   Notebook  Intel Pentium    11.6  4GB  128GB Flash Storage   \n",
       "648  Toshiba   Notebook  Intel Core i5    13.3  8GB            256GB SSD   \n",
       "\n",
       "                        Gpu  \n",
       "145  Intel UHD Graphics 620  \n",
       "319   Intel HD Graphics 405  \n",
       "648   Intel HD Graphics 520  "
      ]
     },
     "execution_count": 39,
     "metadata": {},
     "output_type": "execute_result"
    }
   ],
   "source": [
    "features = ['Company', 'TypeName', 'Processor', 'Inches', 'Ram', 'Memory', 'Gpu']\n",
    "X = dados.loc[:, features]\n",
    "y = dados.loc[:, ['Price_euros']]\n",
    "X_train, X_test, y_train, y_test = train_test_split(X, y, random_state=0, train_size = .60)\n",
    "\n",
    "X_train.head(3)"
   ]
  },
  {
   "cell_type": "code",
   "execution_count": 40,
   "metadata": {},
   "outputs": [
    {
     "data": {
      "text/html": [
       "<div>\n",
       "<style scoped>\n",
       "    .dataframe tbody tr th:only-of-type {\n",
       "        vertical-align: middle;\n",
       "    }\n",
       "\n",
       "    .dataframe tbody tr th {\n",
       "        vertical-align: top;\n",
       "    }\n",
       "\n",
       "    .dataframe thead th {\n",
       "        text-align: right;\n",
       "    }\n",
       "</style>\n",
       "<table border=\"1\" class=\"dataframe\">\n",
       "  <thead>\n",
       "    <tr style=\"text-align: right;\">\n",
       "      <th></th>\n",
       "      <th>Company</th>\n",
       "      <th>TypeName</th>\n",
       "      <th>Processor</th>\n",
       "      <th>Inches</th>\n",
       "      <th>Ram</th>\n",
       "      <th>Memory</th>\n",
       "      <th>Gpu</th>\n",
       "    </tr>\n",
       "  </thead>\n",
       "  <tbody>\n",
       "    <tr>\n",
       "      <th>580</th>\n",
       "      <td>Mediacom</td>\n",
       "      <td>Notebook</td>\n",
       "      <td>Intel Celeron</td>\n",
       "      <td>14.0</td>\n",
       "      <td>4GB</td>\n",
       "      <td>32GB SSD</td>\n",
       "      <td>Intel HD Graphics 500</td>\n",
       "    </tr>\n",
       "    <tr>\n",
       "      <th>1017</th>\n",
       "      <td>Lenovo</td>\n",
       "      <td>Notebook</td>\n",
       "      <td>Intel Core i7</td>\n",
       "      <td>17.3</td>\n",
       "      <td>16GB</td>\n",
       "      <td>512GB SSD</td>\n",
       "      <td>Nvidia Quadro 3000M</td>\n",
       "    </tr>\n",
       "    <tr>\n",
       "      <th>762</th>\n",
       "      <td>Google</td>\n",
       "      <td>Ultrabook</td>\n",
       "      <td>Intel Core i5</td>\n",
       "      <td>12.3</td>\n",
       "      <td>8GB</td>\n",
       "      <td>256GB SSD</td>\n",
       "      <td>Intel HD Graphics 615</td>\n",
       "    </tr>\n",
       "  </tbody>\n",
       "</table>\n",
       "</div>"
      ],
      "text/plain": [
       "       Company   TypeName      Processor  Inches   Ram     Memory  \\\n",
       "580   Mediacom   Notebook  Intel Celeron    14.0   4GB   32GB SSD   \n",
       "1017    Lenovo   Notebook  Intel Core i7    17.3  16GB  512GB SSD   \n",
       "762     Google  Ultrabook  Intel Core i5    12.3   8GB  256GB SSD   \n",
       "\n",
       "                        Gpu  \n",
       "580   Intel HD Graphics 500  \n",
       "1017    Nvidia Quadro 3000M  \n",
       "762   Intel HD Graphics 615  "
      ]
     },
     "execution_count": 40,
     "metadata": {},
     "output_type": "execute_result"
    }
   ],
   "source": [
    "X_test.head(3)"
   ]
  },
  {
   "cell_type": "markdown",
   "metadata": {},
   "source": [
    "[Voltar para o sumário](#sumario)"
   ]
  },
  {
   "cell_type": "markdown",
   "metadata": {},
   "source": [
    "___\n",
    "<div id='validation'></div>\n",
    "\n",
    "## 4. Processo e Estatísticas de validação\n",
    "\n",
    "Calcular medidas que informam a performance de cada modelo ajustado. Para cada um:\n",
    "\n",
    "* Dividir a base de dados em **Treinamento** e **Teste**. Usar **Treinamento** para estimar cada modelo.\n",
    "\n",
    "* Estudar medidas que validam os modelos.\n",
    "\n",
    "    Exemplos:\n",
    "\n",
    "    * <a href='https://help.salesforce.com/s/articleView?id=sf.bi_edd_model_metrics_cross_validation_measure.htm&type=5'>Cross Validation Tab for Numeric Use Cases</a>\n",
    "\n",
    "    * <a href='https://paulovasconcellos.com.br/como-saber-se-seu-modelo-de-machine-learning-está-funcionando-mesmo-a5892f6468b'>Como saber se seu modelo de Machine Learning está funcionando mesmo</a>\n",
    "\n",
    "    * <a href='https://ensinandomaquinasblog.wordpress.com/2017/12/15/modelos-preditivos-de-notas-de-redacao-do-enem-2015/'>Modelos Preditivos de Notas de Redação do ENEM 2015</a>\n",
    "\n",
    "* Discutir sobre overfitting e underfitting (<a href='https://machinelearningmastery.com/overfitting-and-underfitting-with-machine-learning-algorithms/'>link</a>)\n",
    "\n",
    "* **Extra**: Faça o processo de Validação Cruzada utilizando também 10 ciclos e calcule a performance média e desvio padrão das duas medidas R2 e RMS tanto para a parte treinamento como para a parte teste. Discuta com riqueza de detalhes."
   ]
  },
  {
   "cell_type": "markdown",
   "metadata": {},
   "source": [
    "[Voltar para o sumário](#sumario)"
   ]
  },
  {
   "cell_type": "markdown",
   "metadata": {},
   "source": [
    "___\n",
    "<div id='conclusion'></div>\n",
    "\n",
    "## 5. Conclusão"
   ]
  },
  {
   "cell_type": "markdown",
   "metadata": {},
   "source": [
    "[Voltar para o sumário](#sumario)"
   ]
  },
  {
   "cell_type": "markdown",
   "metadata": {},
   "source": [
    "___\n",
    "<div id='ref'></div>\n",
    "\n",
    "## 6. Referências Bibliográficas\n",
    "\n",
    "- Banco de dados:\n",
    "https://www.kaggle.com/datasets/muhammetvarl/laptop-price"
   ]
  },
  {
   "cell_type": "markdown",
   "metadata": {},
   "source": [
    "[Voltar para o sumário](#sumario)"
   ]
  }
 ],
 "metadata": {
  "kernelspec": {
   "display_name": "Python 3.10.2 64-bit",
   "language": "python",
   "name": "python3"
  },
  "language_info": {
   "codemirror_mode": {
    "name": "ipython",
    "version": 3
   },
   "file_extension": ".py",
   "mimetype": "text/x-python",
   "name": "python",
   "nbconvert_exporter": "python",
   "pygments_lexer": "ipython3",
   "version": "3.10.2"
  },
  "vscode": {
   "interpreter": {
    "hash": "a27639bb0df0a13ae87abd85b62385c8ceb83da54a902fbc01c26666a7ef26a5"
   }
  }
 },
 "nbformat": 4,
 "nbformat_minor": 2
}
