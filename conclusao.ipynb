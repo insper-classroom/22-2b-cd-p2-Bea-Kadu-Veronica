{
 "cells": [
  {
   "cell_type": "markdown",
   "metadata": {},
   "source": [
    "___\n",
    "\n",
    "<div id='base'></div>\n",
    "\n",
    "### Explicando a base de dados\n",
    "\n",
    "A base de dados utilizada em nosso projeto possui nos dá informações técnicas sobre telefones celulares, como memória RAM, carga máxima de bateria, entre outros. Utilizaremos essas informações para definir o range de preço para cada celular que nos será fornecido.\n",
    "\n",
    "Temos que:\n",
    "\n",
    "* `battery_power`: carga total da bateria, em mAh\n",
    "* `blue`: booleano, possui bluetooth **($1$)** ou não **($0$)**\n",
    "* `clock_speed`: velocidade na qual o microprocessador executa instruções (execuções por segundo)\n",
    "* `dual_sim`: booleano, possui suporte para *Dual SIM* **($1$)** ou não **($0$)**\n",
    "* `fc`: resolução da câmera frontal, em *megapixels*\n",
    "* `four_g`: booleano, possui 4G **($1$)** ou não **($0$)**\n",
    "* `int_memory`: memória interna, em *gigabytes*\n",
    "* `m_dep`: profundidade do celular, em centímetros\n",
    "* `mobile_wt`:peso do telefone, em gramas\n",
    "* `n_cores`: número de núcleos **(*cores*)** do processador\n",
    "* `pc`: resolução da câmera principal, em *megapixels*\n",
    "* `px_height`: resolução (altura) da tela, em px\n",
    "* `px_width`: resolução (comprimento) da tela, em px\n",
    "* `ram`: memória RAM, em *megabytes*\n",
    "* `sc_h`: altura da tela, em centímetros\n",
    "* `sc_w`: comprimento da tela, em centímetros\n",
    "* `talk_time`: tempo máximo que a bateria dura quando carregada completamente, em horas\n",
    "* `three_g`: booleano, possui 3G **($1$)** ou não **($0$)**\n",
    "* `touch_screen`: booleano, possui *touchscreen* **($1$)** ou não **($0$)**\n",
    "* `wifi`: booleano, possui *Wi-fi* **($1$)** ou não **($0$)**\n",
    "* `price_range`: *range* do preço do telefone, variando entre $0$ (aparelhos mais baratos) e $3$ (aparelhos mais caros) "
   ]
  },
  {
   "cell_type": "markdown",
   "metadata": {},
   "source": [
    "___\n",
    "\n",
    "<div id='objetivo'></div>\n",
    "\n",
    "### Objetivo\n",
    "\n",
    "Ao longo do notebook, pretende-se:\n",
    "\n",
    "* Mostrar **como pode-se prever a faixa de preço de um celular** dadas suas características (potência da bateria, memória ram, tamanho da tela etc).\n",
    "\n",
    "* Fazer a análise exploratória da base de dados, observando a distribuição das variáveis em relação a variável depentende, que nesse caso é o price range.\n",
    "\n",
    "* Identificar os métodos de previsão adequados para a base de dados e entender como aplicá-los para responder como prever a faixa de preço de um celular.\n",
    "\n",
    "* Comparar os métodos utilizados, comparando os resultados das previsões feitas pela máquina com os valores reais fornecidos pela base de dados, a fim de identificar falhas nos modelos e métodos a serem utilizados para melhorar a acurácia da previsão."
   ]
  },
  {
   "cell_type": "markdown",
   "metadata": {},
   "source": [
    "___\n",
    "\n",
    "<div id='conclusao'></div>\n",
    "\n",
    "### Conclusão\n",
    "\n",
    "Comparando os resultados obtidos, pode-se concluir que o modelo da regressão logística multinomial utilizado tem um melhor desempenho para prever o intervalo de preço de um celular dados seus atributos. Isso é observado não apenas para o conjunto de dados como um todo, para o qual o desempenho dos modelos foi analisado utilizando a acurácia, como também para cada uma das targets - já que comparando as matrizes de confusão referentes a cada um dos modelos pode-se ver que o número de acertos para cada uma das targets é maior no modelo da regressão logística multinomial do que no modelo da árvore de decisão.\n",
    "\n",
    "Outro ponto importante a ser considerado para a análise de desempenho, uma vez que a variável dependente é qualitativa ordinal, é não só a quantidade de erros mas o quão grandes são os erros cometidos pelos modelos. Analisando a matrizes de confusão, conclui-se que a previsão realizada pela árvore de decisão tem erros maiores. Enquanto a regressão multinomial prevê valores incorretos mas com apenas 1 intervalo de diferença, a árvore de decisão chega a prever valores incorretos com até 2 intervalos de diferença do resultado esperado.\n",
    "\n",
    "A acurácia da árvore de decisão para a base de dados de treinamento é muito alta, e diminui cerca de 15% quando aplicada na base de testes. Assim, pode-se concluir que está ocorrendo um \"overfitting\", nesse caso, a árvore de decisão utilizada aprendeu detalhes muito específicos da base de treinamento, influenciando negativamente a qualidade dos resultados obtidos para a base de dados de teste. Para melhorar a qualidade desse modelo pode-se restringir o número de nós da árvore, fazendo com que ela leve em conta menos informações desnecessárias."
   ]
  }
 ],
 "metadata": {
  "kernelspec": {
   "display_name": "Python 3.10.2 64-bit",
   "language": "python",
   "name": "python3"
  },
  "language_info": {
   "codemirror_mode": {
    "name": "ipython",
    "version": 3
   },
   "file_extension": ".py",
   "mimetype": "text/x-python",
   "name": "python",
   "nbconvert_exporter": "python",
   "pygments_lexer": "ipython3",
   "version": "3.10.2"
  },
  "vscode": {
   "interpreter": {
    "hash": "a27639bb0df0a13ae87abd85b62385c8ceb83da54a902fbc01c26666a7ef26a5"
   }
  }
 },
 "nbformat": 4,
 "nbformat_minor": 2
}
