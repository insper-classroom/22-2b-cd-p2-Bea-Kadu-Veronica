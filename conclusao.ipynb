{
 "cells": [
  {
   "cell_type": "markdown",
   "metadata": {},
   "source": [
    "___\n",
    "\n",
    "<div id='base'></div>\n",
    "\n",
    "### Explicando a base de dados\n",
    "\n",
    "A base de dados utilizada em nosso projeto possui nos dá informações técnicas sobre telefones celulares, como memória RAM, carga máxima de bateria, entre outros. Utilizaremos essas informações para definir o range de preço para cada celular que nos será fornecido.\n",
    "\n",
    "Temos que:\n",
    "\n",
    "* `battery_power`: carga total da bateria, em mAh\n",
    "* `blue`: booleano, possui bluetooth **($1$)** ou não **($0$)**\n",
    "* `clock_speed`: velocidade na qual o microprocessador executa instruções (execuções por segundo)\n",
    "* `dual_sim`: booleano, possui suporte para *Dual SIM* **($1$)** ou não **($0$)**\n",
    "* `fc`: resolução da câmera frontal, em *megapixels*\n",
    "* `four_g`: booleano, possui 4G **($1$)** ou não **($0$)**\n",
    "* `int_memory`: memória interna, em *gigabytes*\n",
    "* `m_dep`: profundidade do celular, em centímetros\n",
    "* `mobile_wt`:peso do telefone, em gramas\n",
    "* `n_cores`: número de núcleos **(*cores*)** do processador\n",
    "* `pc`: resolução da câmera principal, em *megapixels*\n",
    "* `px_height`: resolução (altura) da tela, em px\n",
    "* `px_width`: resolução (comprimento) da tela, em px\n",
    "* `ram`: memória RAM, em *megabytes*\n",
    "* `sc_h`: altura da tela, em centímetros\n",
    "* `sc_w`: comprimento da tela, em centímetros\n",
    "* `talk_time`: tempo máximo que a bateria dura quando carregada completamente, em horas\n",
    "* `three_g`: booleano, possui 3G **($1$)** ou não **($0$)**\n",
    "* `touch_screen`: booleano, possui *touchscreen* **($1$)** ou não **($0$)**\n",
    "* `wifi`: booleano, possui *Wi-fi* **($1$)** ou não **($0$)**\n",
    "* `price_range`: *range* do preço do telefone, variando entre $0$ (aparelhos mais baratos) e $3$ (aparelhos mais caros) "
   ]
  },
  {
   "cell_type": "markdown",
   "metadata": {},
   "source": [
    "___\n",
    "\n",
    "<div id='objetivo'></div>\n",
    "\n",
    "### Objetivo\n",
    "\n",
    "Ao longo do notebook, pretende-se:\n",
    "\n",
    "* Mostrar **como pode-se prever a faixa de preço de um celular** dadas suas características (potência da bateria, memória ram, tamanho da tela etc).\n",
    "\n",
    "* Fazer a análise exploratória da base de dados, observando a distribuição das variáveis em relação a variável depentende, que nesse caso é o price range.\n",
    "\n",
    "* Identificar os métodos de previsão adequados para a base de dados e entender como aplicá-los para responder como prever a faixa de preço de um celular.\n",
    "\n",
    "* Comparar os métodos utilizados, comparando os resultados das previsões feitas pela máquina com os valores reais fornecidos pela base de dados, a fim de identificar falhas nos modelos e métodos a serem utilizados para melhorar a acurácia da previsão."
   ]
  },
  {
   "cell_type": "markdown",
   "metadata": {},
   "source": [
    "___\n",
    "\n",
    "<div id='conclusao'></div>\n",
    "\n",
    "### Conclusão\n",
    "\n",
    "Comparando a quantidade de valores atribuídos incorretamente para os dois modelos, podemos concluir que o modelo logístico de regressão multinomial é mais adequado para classificar o *range* do preço dos celulares pois sua acurácia é melhor que a do modelo por Árvore de Decisão.\n",
    "\n",
    "Outro modelo que poderia ser utilizados para podermos comparar a acurácia é o de *Random Forest*, que é um aperfeiçoamento das Árvores de Decisão. Esse modelo consiste em criar diversas Árvores de Decisão e juntar todas elas para poder predizer o resultado dos dados que fornecemos ao algoritmo. "
   ]
  }
 ],
 "metadata": {
  "kernelspec": {
   "display_name": "Python 3 (ipykernel)",
   "language": "python",
   "name": "python3"
  },
  "language_info": {
   "codemirror_mode": {
    "name": "ipython",
    "version": 3
   },
   "file_extension": ".py",
   "mimetype": "text/x-python",
   "name": "python",
   "nbconvert_exporter": "python",
   "pygments_lexer": "ipython3",
   "version": "3.9.7"
  },
  "vscode": {
   "interpreter": {
    "hash": "783d491ef032ee1bfc22db3400669e6a996998f4e79703ac16815f9739997b2d"
   }
  }
 },
 "nbformat": 4,
 "nbformat_minor": 2
}
