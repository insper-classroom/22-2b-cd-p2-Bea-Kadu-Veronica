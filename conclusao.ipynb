{
 "cells": [
  {
   "cell_type": "markdown",
   "metadata": {},
   "source": [
    "___\n",
    "\n",
    "<div id='base'></div>\n",
    "\n",
    "### Explicando a base de dados\n",
    "\n",
    "A base de dados utilizada em nosso projeto possui nos dá informações técnicas sobre telefones celulares, como memória RAM, carga máxima de bateria, entre outros. Utilizaremos essas informações para definir o range de preço para cada celular que nos será fornecido.\n",
    "\n",
    "Temos que:\n",
    "\n",
    "* `battery_power`: carga total da bateria, em mAh\n",
    "* `blue`: booleano, possui bluetooth **($1$)** ou não **($0$)**\n",
    "* `clock_speed`: velocidade na qual o microprocessador executa instruções (execuções por segundo)\n",
    "* `dual_sim`: booleano, possui suporte para *Dual SIM* **($1$)** ou não **($0$)**\n",
    "* `fc`: resolução da câmera frontal, em *megapixels*\n",
    "* `four_g`: booleano, possui 4G **($1$)** ou não **($0$)**\n",
    "* `int_memory`: memória interna, em *gigabytes*\n",
    "* `m_dep`: profundidade do celular, em centímetros\n",
    "* `mobile_wt`:peso do telefone, em gramas\n",
    "* `n_cores`: número de núcleos **(*cores*)** do processador\n",
    "* `pc`: resolução da câmera principal, em *megapixels*\n",
    "* `px_height`: resolução (altura) da tela, em px\n",
    "* `px_width`: resolução (comprimento) da tela, em px\n",
    "* `ram`: memória RAM, em *megabytes*\n",
    "* `sc_h`: altura da tela, em centímetros\n",
    "* `sc_w`: comprimento da tela, em centímetros\n",
    "* `talk_time`: tempo máximo que a bateria dura quando carregada completamente, em horas\n",
    "* `three_g`: booleano, possui 3G **($1$)** ou não **($0$)**\n",
    "* `touch_screen`: booleano, possui *touchscreen* **($1$)** ou não **($0$)**\n",
    "* `wifi`: booleano, possui *Wi-fi* **($1$)** ou não **($0$)**\n",
    "* `price_range`: *range* do preço do telefone, variando entre $0$ (aparelhos mais baratos) e $3$ (aparelhos mais caros) "
   ]
  },
  {
   "cell_type": "markdown",
   "metadata": {},
   "source": [
    "___\n",
    "\n",
    "<div id='objetivo'></div>\n",
    "\n",
    "### Objetivo\n",
    "\n",
    "Ao fim do *notebook*, o grupo pretende:\n",
    "\n",
    "* analisar a base de dados, verificando propriedades de todas as variáveis através de gráficos (histogramas);\n",
    "\n",
    "* utilizar métodos de previsão para ensinar a máquina a nos dizer qual seria o range do preço (`price_range`), dadas as informações;\n",
    "\n",
    "* comparar os métodos, analisando os resultados das previsões feitas pela máquina com os valores reais fornecidos pela base de dados, a fim de qualificar possíveis melhorias e métodos a serem utilizados para melhorar a acurácia da previsão."
   ]
  },
  {
   "cell_type": "markdown",
   "metadata": {},
   "source": [
    "___\n",
    "\n",
    "<div id='conclusao'></div>\n",
    "\n",
    "### Conclusão\n",
    "\n",
    "A partir da matriz de confusão gerada para o modelo de **árvore de decisão**, percebemos que existe uma quantidade significativa de rótulos atribuídos incorretamente, isto é, a previsão nos diz que o `price_range` de um celular é $2$, quando deveria ser $3$, por exemplo. Apesar de os valores, quando comparados ao total de previsões corretas parecer insignificante, quando observamos a matriz de confusão gerada para o modelo de **regressão logística multinomial**, a quantidade de rótulos incorretos é muito menor, o que nos leva à conclusão de que o segundo modelo é mais preciso para o nosso objetivo.\n",
    "\n",
    "Isso ocorre pois o modelo de regressão logística multinomial é **nominal ordinal**, o que influencia na qualidade do modelo, pois os valores previstos não distam muito dos valores reais quando ensinamos a máquina.\n",
    "\n",
    "Para melhorarmos o nosso modelo de árvore de decisão, poderíamos implementar o modelo de *Random Forest*, que consiste basicamente em um algoritmo que gera diversas árvores e atribui os rótulos de acordo com os resultados delas, o que supostamente deveria reduzir a quantidade de valores atribuídos incorretamente quando analisamos a matriz de confusão do modelo."
   ]
  }
 ],
 "metadata": {
  "kernelspec": {
   "display_name": "Python 3.9.7 ('base')",
   "language": "python",
   "name": "python3"
  },
  "language_info": {
   "name": "python",
   "version": "3.9.7"
  },
  "orig_nbformat": 4,
  "vscode": {
   "interpreter": {
    "hash": "783d491ef032ee1bfc22db3400669e6a996998f4e79703ac16815f9739997b2d"
   }
  }
 },
 "nbformat": 4,
 "nbformat_minor": 2
}
