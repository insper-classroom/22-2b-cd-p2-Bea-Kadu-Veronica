{
 "cells": [
  {
   "cell_type": "markdown",
   "metadata": {},
   "source": [
    "# Insper - Ciência dos Dados 2022.2\n",
    "\n",
    "## Engenharia - 2ºB\n",
    "\n",
    "### Integrantes do grupo:\n",
    "\n",
    "* Beatriz Rodrigues de Freitas\n",
    "\n",
    "* Carlos Eduardo Porciuncula Yamada\n",
    "\n",
    "* Verônica Luisa Ribeiro Lima"
   ]
  },
  {
   "cell_type": "markdown",
   "metadata": {},
   "source": [
    "___\n",
    "<div id='sumario'></div>\n",
    "\n",
    "## Sumário\n",
    "\n",
    "1. [Introdução](#intro)\n",
    "\n",
    "2. [Minerando Dados e Características do Dataset](#data-mining)\n",
    "\n",
    "3. [Modelos de Predição](#prediction)\n",
    "\n",
    "4. [Processo e Estatísticas de Validação](#validation)\n",
    "\n",
    "5. [Conclusão](#conclusion)\n",
    "\n",
    "6. [Referências Bibliográficas](#ref)"
   ]
  },
  {
   "cell_type": "markdown",
   "metadata": {},
   "source": [
    "___\n",
    "<div id='intro'></div>\n",
    "\n",
    "## 1. Introdução\n",
    "\n",
    "### Objetivo\n",
    "\n",
    "(Objetivo escolhido para trabalhar neste projeto)\n",
    "\n",
    "### Descrição da base de dados\n",
    "\n",
    "* `age`: idade do paciente (anos);\n",
    "\n",
    "* `anaemia`: **booleano** → 0, se o paciente não tem anemia; 1, se o paciente tem anemia;\n",
    "\n",
    "* `high blood pressure`: **booleano** → 0, se o paciente não tem hipertensão; 1, se o paciente tem hipertensão;\n",
    "\n",
    "* `creatinine phosphokinase` (*CPK*): concentração da enzima CPK no sangue (mcg/L);\n",
    "\n",
    "* `diabetes`: **booleano** → 0, se o paciente não possui; 1, se o paciente possui;\n",
    "\n",
    "* `ejection fraction`: porcentagem do sangue que sai do coração a cada contração (porcentagem, %);\n",
    "\n",
    "* `platelets`: plaquetas no sangue (kiloplaquetas/mL);\n",
    "\n",
    "* `sex`: **booleano** → 0, se mulher; 1, se homem;\n",
    "\n",
    "* `serum creatinine`: concentração de creatinina sérica no sangue (mg/dL);\n",
    "\n",
    "* `serum sodium`: concentração de sódio sérico no sangue (mEq/L);\n",
    "\n",
    "* `smoking`: **booleano** → 0, se o paciente não fuma; 1, se o paciente fuma;\n",
    "\n",
    "* `time`: tempo de acompanhamento (dias);\n",
    "\n",
    "* `death event` (*target*): **booleano** → 0, o evento não ocorre; 1, o evento não ocorre;\n",
    "\n"
   ]
  },
  {
   "cell_type": "code",
   "execution_count": 34,
   "metadata": {},
   "outputs": [],
   "source": [
    "%matplotlib inline\n",
    "import pandas as pd\n",
    "import numpy as np\n",
    "from sklearn import tree\n",
    "from sklearn.model_selection import train_test_split\n",
    "import os\n",
    "import re \n",
    "import matplotlib.pyplot as plt\n"
   ]
  },
  {
   "cell_type": "code",
   "execution_count": 35,
   "metadata": {},
   "outputs": [
    {
     "data": {
      "text/html": [
       "<div>\n",
       "<style scoped>\n",
       "    .dataframe tbody tr th:only-of-type {\n",
       "        vertical-align: middle;\n",
       "    }\n",
       "\n",
       "    .dataframe tbody tr th {\n",
       "        vertical-align: top;\n",
       "    }\n",
       "\n",
       "    .dataframe thead th {\n",
       "        text-align: right;\n",
       "    }\n",
       "</style>\n",
       "<table border=\"1\" class=\"dataframe\">\n",
       "  <thead>\n",
       "    <tr style=\"text-align: right;\">\n",
       "      <th></th>\n",
       "      <th>laptop_ID</th>\n",
       "      <th>Company</th>\n",
       "      <th>Product</th>\n",
       "      <th>TypeName</th>\n",
       "      <th>Inches</th>\n",
       "      <th>ScreenResolution</th>\n",
       "      <th>Cpu</th>\n",
       "      <th>Ram</th>\n",
       "      <th>Memory</th>\n",
       "      <th>Gpu</th>\n",
       "      <th>OpSys</th>\n",
       "      <th>Weight</th>\n",
       "      <th>Price_euros</th>\n",
       "    </tr>\n",
       "  </thead>\n",
       "  <tbody>\n",
       "    <tr>\n",
       "      <th>0</th>\n",
       "      <td>1</td>\n",
       "      <td>Apple</td>\n",
       "      <td>MacBook Pro</td>\n",
       "      <td>Ultrabook</td>\n",
       "      <td>13.3</td>\n",
       "      <td>IPS Panel Retina Display 2560x1600</td>\n",
       "      <td>Intel Core i5 2.3GHz</td>\n",
       "      <td>8GB</td>\n",
       "      <td>128GB SSD</td>\n",
       "      <td>Intel Iris Plus Graphics 640</td>\n",
       "      <td>macOS</td>\n",
       "      <td>1.37kg</td>\n",
       "      <td>1339.69</td>\n",
       "    </tr>\n",
       "    <tr>\n",
       "      <th>1</th>\n",
       "      <td>2</td>\n",
       "      <td>Apple</td>\n",
       "      <td>Macbook Air</td>\n",
       "      <td>Ultrabook</td>\n",
       "      <td>13.3</td>\n",
       "      <td>1440x900</td>\n",
       "      <td>Intel Core i5 1.8GHz</td>\n",
       "      <td>8GB</td>\n",
       "      <td>128GB Flash Storage</td>\n",
       "      <td>Intel HD Graphics 6000</td>\n",
       "      <td>macOS</td>\n",
       "      <td>1.34kg</td>\n",
       "      <td>898.94</td>\n",
       "    </tr>\n",
       "    <tr>\n",
       "      <th>2</th>\n",
       "      <td>3</td>\n",
       "      <td>HP</td>\n",
       "      <td>250 G6</td>\n",
       "      <td>Notebook</td>\n",
       "      <td>15.6</td>\n",
       "      <td>Full HD 1920x1080</td>\n",
       "      <td>Intel Core i5 7200U 2.5GHz</td>\n",
       "      <td>8GB</td>\n",
       "      <td>256GB SSD</td>\n",
       "      <td>Intel HD Graphics 620</td>\n",
       "      <td>No OS</td>\n",
       "      <td>1.86kg</td>\n",
       "      <td>575.00</td>\n",
       "    </tr>\n",
       "  </tbody>\n",
       "</table>\n",
       "</div>"
      ],
      "text/plain": [
       "   laptop_ID Company      Product   TypeName  Inches  \\\n",
       "0          1   Apple  MacBook Pro  Ultrabook    13.3   \n",
       "1          2   Apple  Macbook Air  Ultrabook    13.3   \n",
       "2          3      HP       250 G6   Notebook    15.6   \n",
       "\n",
       "                     ScreenResolution                         Cpu  Ram  \\\n",
       "0  IPS Panel Retina Display 2560x1600        Intel Core i5 2.3GHz  8GB   \n",
       "1                            1440x900        Intel Core i5 1.8GHz  8GB   \n",
       "2                   Full HD 1920x1080  Intel Core i5 7200U 2.5GHz  8GB   \n",
       "\n",
       "                Memory                           Gpu  OpSys  Weight  \\\n",
       "0            128GB SSD  Intel Iris Plus Graphics 640  macOS  1.37kg   \n",
       "1  128GB Flash Storage        Intel HD Graphics 6000  macOS  1.34kg   \n",
       "2            256GB SSD         Intel HD Graphics 620  No OS  1.86kg   \n",
       "\n",
       "   Price_euros  \n",
       "0      1339.69  \n",
       "1       898.94  \n",
       "2       575.00  "
      ]
     },
     "execution_count": 35,
     "metadata": {},
     "output_type": "execute_result"
    }
   ],
   "source": [
    "laptop_price = pd.read_csv('dados/laptop_price.csv',sep=',',  encoding='latin-1')\n",
    "laptop_price.head(3)"
   ]
  },
  {
   "cell_type": "code",
   "execution_count": 41,
   "metadata": {},
   "outputs": [],
   "source": [
    "dados = laptop_price.loc[:, ['Company', 'TypeName', 'Cpu', \"Inches\", 'Ram', 'Memory', 'Gpu', 'Price_euros']]\n",
    "\n",
    "dados.insert(3, 'Processor', '')"
   ]
  },
  {
   "cell_type": "code",
   "execution_count": 42,
   "metadata": {},
   "outputs": [],
   "source": [
    "tamanho = len(dados['Company'])\n",
    "\n",
    "for i in range(0, tamanho):\n",
    "    cpu = dados[\"Cpu\"][i]\n",
    "\n",
    "    if re.search(\"AMD\", cpu):\n",
    "        dados.loc[i,'Processor']= 'AMD'\n",
    "    elif re.search(\"Intel Pentium\", cpu):\n",
    "        dados.loc[i,'Processor']= 'Intel Pentium'\n",
    "    elif re.search(\"Intel Core i3\", cpu):\n",
    "        dados.loc[i,'Processor']= 'Intel Core i3'\n",
    "    elif re.search(\"Intel Core i5\", cpu):\n",
    "        dados.loc[i,'Processor']= 'Intel Core i5'\n",
    "    elif re.search(\"Intel Core i7\", cpu):\n",
    "        dados.loc[i,'Processor']= 'Intel Core i7'\n",
    "    elif re.search(\"Intel Celeron\", cpu):\n",
    "        dados.loc[i,'Processor']= 'Intel Celeron'\n",
    "    else:\n",
    "        dados.loc[i,'Processor']= 'Outros'"
   ]
  },
  {
   "cell_type": "code",
   "execution_count": 43,
   "metadata": {},
   "outputs": [
    {
     "data": {
      "text/html": [
       "<div>\n",
       "<style scoped>\n",
       "    .dataframe tbody tr th:only-of-type {\n",
       "        vertical-align: middle;\n",
       "    }\n",
       "\n",
       "    .dataframe tbody tr th {\n",
       "        vertical-align: top;\n",
       "    }\n",
       "\n",
       "    .dataframe thead th {\n",
       "        text-align: right;\n",
       "    }\n",
       "</style>\n",
       "<table border=\"1\" class=\"dataframe\">\n",
       "  <thead>\n",
       "    <tr style=\"text-align: right;\">\n",
       "      <th></th>\n",
       "      <th>Company</th>\n",
       "      <th>TypeName</th>\n",
       "      <th>Processor</th>\n",
       "      <th>Inches</th>\n",
       "      <th>Ram</th>\n",
       "      <th>Memory</th>\n",
       "      <th>Gpu</th>\n",
       "      <th>Price_euros</th>\n",
       "    </tr>\n",
       "  </thead>\n",
       "  <tbody>\n",
       "    <tr>\n",
       "      <th>0</th>\n",
       "      <td>Apple</td>\n",
       "      <td>Ultrabook</td>\n",
       "      <td>Intel Core i5</td>\n",
       "      <td>13.3</td>\n",
       "      <td>8GB</td>\n",
       "      <td>128GB SSD</td>\n",
       "      <td>Intel Iris Plus Graphics 640</td>\n",
       "      <td>1339.69</td>\n",
       "    </tr>\n",
       "    <tr>\n",
       "      <th>1</th>\n",
       "      <td>Apple</td>\n",
       "      <td>Ultrabook</td>\n",
       "      <td>Intel Core i5</td>\n",
       "      <td>13.3</td>\n",
       "      <td>8GB</td>\n",
       "      <td>128GB Flash Storage</td>\n",
       "      <td>Intel HD Graphics 6000</td>\n",
       "      <td>898.94</td>\n",
       "    </tr>\n",
       "    <tr>\n",
       "      <th>2</th>\n",
       "      <td>HP</td>\n",
       "      <td>Notebook</td>\n",
       "      <td>Intel Core i5</td>\n",
       "      <td>15.6</td>\n",
       "      <td>8GB</td>\n",
       "      <td>256GB SSD</td>\n",
       "      <td>Intel HD Graphics 620</td>\n",
       "      <td>575.00</td>\n",
       "    </tr>\n",
       "  </tbody>\n",
       "</table>\n",
       "</div>"
      ],
      "text/plain": [
       "  Company   TypeName      Processor  Inches  Ram               Memory  \\\n",
       "0   Apple  Ultrabook  Intel Core i5    13.3  8GB            128GB SSD   \n",
       "1   Apple  Ultrabook  Intel Core i5    13.3  8GB  128GB Flash Storage   \n",
       "2      HP   Notebook  Intel Core i5    15.6  8GB            256GB SSD   \n",
       "\n",
       "                            Gpu  Price_euros  \n",
       "0  Intel Iris Plus Graphics 640      1339.69  \n",
       "1        Intel HD Graphics 6000       898.94  \n",
       "2         Intel HD Graphics 620       575.00  "
      ]
     },
     "execution_count": 43,
     "metadata": {},
     "output_type": "execute_result"
    }
   ],
   "source": [
    "dados.drop(columns = 'Cpu', axis = 1, inplace=True)\n",
    "dados.head(3)"
   ]
  },
  {
   "cell_type": "markdown",
   "metadata": {},
   "source": [
    "[Voltar para o sumário](#sumario)"
   ]
  },
  {
   "cell_type": "markdown",
   "metadata": {},
   "source": [
    "___\n",
    "<div id='data-mining'></div>\n",
    "\n",
    "## 2. Minerando Dados e Características do Dataset\n",
    "\n",
    "* Se necessário, faça filtro na base de dados tanto de linhas como de colunas em prol do\n",
    "objetivo traçado anteriormente.\n",
    "\n",
    "* Descreva as variáveis finais.\n",
    "\n",
    "* Faça análise descritiva detalhada das variáveis, norteado pelo objetivo do problema. Aqui, é\n",
    "interessante entender como sua variável *target* (y) se comporta cruzada com cada *feature* (x). Ferramentas estatísticas: medidas de associação, gráfico de dispersão, entre outras.\n",
    "\n",
    "* *Storytelling* com dados: explicação do raciocínio.\n",
    "\n",
    "* Link do <a href='https://vimeo.com/114900089'>vídeo</a> sobre Teoria das Cores para ajudar no *storytelling*.\n",
    "\n"
   ]
  },
  {
   "cell_type": "markdown",
   "metadata": {},
   "source": [
    "___\n",
    "<div id='data-mining'></div>\n",
    "\n",
    "## 2.1 Análise exploratória\n"
   ]
  },
  {
   "cell_type": "code",
   "execution_count": null,
   "metadata": {},
   "outputs": [],
   "source": []
  },
  {
   "cell_type": "markdown",
   "metadata": {},
   "source": [
    "[Voltar para o sumário](#sumario)"
   ]
  },
  {
   "cell_type": "markdown",
   "metadata": {},
   "source": [
    "___\n",
    "<div id='prediction'></div>\n",
    "\n",
    "## 3. Modelos de Predição\n",
    "\n",
    "Descrever e justificar pelo menos **DUAS** técnicas de predição."
   ]
  },
  {
   "cell_type": "markdown",
   "metadata": {},
   "source": [
    "[Voltar para o sumário](#sumario)"
   ]
  },
  {
   "cell_type": "markdown",
   "metadata": {},
   "source": [
    "___\n",
    "<div id='validation'></div>\n",
    "\n",
    "## 4. Processo e Estatísticas de validação\n",
    "\n",
    "Calcular medidas que informam a performance de cada modelo ajustado. Para cada um:\n",
    "\n",
    "* Dividir a base de dados em **Treinamento** e **Teste**. Usar **Treinamento** para estimar cada modelo.\n",
    "\n",
    "* Estudar medidas que validam os modelos.\n",
    "\n",
    "    Exemplos:\n",
    "\n",
    "    * <a href='https://help.salesforce.com/s/articleView?id=sf.bi_edd_model_metrics_cross_validation_measure.htm&type=5'>Cross Validation Tab for Numeric Use Cases</a>\n",
    "\n",
    "    * <a href='https://paulovasconcellos.com.br/como-saber-se-seu-modelo-de-machine-learning-está-funcionando-mesmo-a5892f6468b'>Como saber se seu modelo de Machine Learning está funcionando mesmo</a>\n",
    "\n",
    "    * <a href='https://ensinandomaquinasblog.wordpress.com/2017/12/15/modelos-preditivos-de-notas-de-redacao-do-enem-2015/'>Modelos Preditivos de Notas de Redação do ENEM 2015</a>\n",
    "\n",
    "* Discutir sobre overfitting e underfitting (<a href='https://machinelearningmastery.com/overfitting-and-underfitting-with-machine-learning-algorithms/'>link</a>)\n",
    "\n",
    "* **Extra**: Faça o processo de Validação Cruzada utilizando também 10 ciclos e calcule a performance média e desvio padrão das duas medidas R2 e RMS tanto para a parte treinamento como para a parte teste. Discuta com riqueza de detalhes."
   ]
  },
  {
   "cell_type": "markdown",
   "metadata": {},
   "source": [
    "[Voltar para o sumário](#sumario)"
   ]
  },
  {
   "cell_type": "markdown",
   "metadata": {},
   "source": [
    "___\n",
    "<div id='conclusion'></div>\n",
    "\n",
    "## 5. Conclusão"
   ]
  },
  {
   "cell_type": "markdown",
   "metadata": {},
   "source": [
    "[Voltar para o sumário](#sumario)"
   ]
  },
  {
   "cell_type": "markdown",
   "metadata": {},
   "source": [
    "___\n",
    "<div id='ref'></div>\n",
    "\n",
    "## 6. Referências Bibliográficas"
   ]
  },
  {
   "cell_type": "markdown",
   "metadata": {},
   "source": [
    "[Voltar para o sumário](#sumario)"
   ]
  }
 ],
 "metadata": {
  "kernelspec": {
   "display_name": "Python 3 (ipykernel)",
   "language": "python",
   "name": "python3"
  },
  "language_info": {
   "codemirror_mode": {
    "name": "ipython",
    "version": 3
   },
   "file_extension": ".py",
   "mimetype": "text/x-python",
   "name": "python",
   "nbconvert_exporter": "python",
   "pygments_lexer": "ipython3",
   "version": "3.9.7"
  },
  "vscode": {
   "interpreter": {
    "hash": "ee1c0fc47c410b17543a02385d473ae622eab23db601d83f036b88738d4c0b86"
   }
  }
 },
 "nbformat": 4,
 "nbformat_minor": 2
}
